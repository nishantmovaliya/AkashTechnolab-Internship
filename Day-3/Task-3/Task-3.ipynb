{
 "cells": [
  {
   "cell_type": "code",
   "execution_count": 1,
   "metadata": {},
   "outputs": [
    {
     "name": "stdout",
     "output_type": "stream",
     "text": [
      "Enter a value 1 :1\n",
      "Enter a value 2 :2\n",
      "Enter a value 3 :3\n",
      "Enter a value 4 :4\n",
      "Enter a value 5 :5\n",
      "[1.0, 2.0, 3.0, 4.0, 5.0]\n",
      "Average of 5 number: 3.0\n"
     ]
    }
   ],
   "source": [
    "#1.Calculate average of 5 numbers.\n",
    "l1 = list()\n",
    "for i in range(1,6):\n",
    "    l1.append(float((input(f'Enter a value {i} :'))))\n",
    "\n",
    "sm = 0.0\n",
    "avg = 0.0\n",
    "for i in l1:\n",
    "    sm = sm + i\n",
    "    \n",
    "avg = sm/len(l1)\n",
    "print(l1)\n",
    "print('Average of 5 number:', avg)"
   ]
  },
  {
   "cell_type": "code",
   "execution_count": 2,
   "metadata": {},
   "outputs": [
    {
     "name": "stdout",
     "output_type": "stream",
     "text": [
      "Enter a number:4\n",
      "4  is even\n"
     ]
    }
   ],
   "source": [
    "#2.Check whether number is even or odd.\n",
    "n = int(input('Enter a number:'))\n",
    "if n%2 == 0:\n",
    "    print(n,' is even')\n",
    "else:\n",
    "    print(n,' is odd')"
   ]
  },
  {
   "cell_type": "code",
   "execution_count": 2,
   "metadata": {},
   "outputs": [
    {
     "name": "stdout",
     "output_type": "stream",
     "text": [
      "Enter a year: 2020\n",
      "2020 is a leap year\n"
     ]
    }
   ],
   "source": [
    "#3.Take a year and check whether it is leap year or not\n",
    "\n",
    "year = int(input('Enter a year: '))\n",
    "if year%4==0  and year%100 !=0 or year%400 ==0:\n",
    "    print(f'{year} is a leap year')\n",
    "else:\n",
    "    print(f'{year} is not a leap year')"
   ]
  },
  {
   "cell_type": "code",
   "execution_count": 1,
   "metadata": {},
   "outputs": [
    {
     "name": "stdout",
     "output_type": "stream",
     "text": [
      "Enter a number:-3\n",
      "Number is negative\n"
     ]
    }
   ],
   "source": [
    "#4.\tTake a number and check whether it is zero, positive or negative.\n",
    "n = int(input('Enter a number:'))\n",
    "if(n==0):\n",
    "    print('Number is Zero')\n",
    "elif(n>0):\n",
    "    print('Number is positive')\n",
    "else:\n",
    "    print('Number is negative')"
   ]
  },
  {
   "cell_type": "code",
   "execution_count": 4,
   "metadata": {},
   "outputs": [
    {
     "name": "stdout",
     "output_type": "stream",
     "text": [
      "Enter a number1:4\n",
      "Enter a number2:5\n",
      "5  is greatest.\n"
     ]
    }
   ],
   "source": [
    "#5.Take 2 numbers and display greatest number. (Also check equal number condition)\n",
    "num1=int(input('Enter a number1:'))\n",
    "num2=int(input('Enter a number2:'))\n",
    "\n",
    "if(num1 == num2):\n",
    "    print('Both number are Equal.')\n",
    "elif(num1 > num2):\n",
    "    print(num1,' is greatest.')\n",
    "else:\n",
    "    print(num2,' is greatest.')"
   ]
  },
  {
   "cell_type": "code",
   "execution_count": 5,
   "metadata": {},
   "outputs": [
    {
     "name": "stdout",
     "output_type": "stream",
     "text": [
      "Enter a number for factorial:5\n",
      "Factorial of 5 is 120 .\n"
     ]
    }
   ],
   "source": [
    "#6.Take a number and find factorial of that number.\n",
    "\n",
    "def factorial(num):\n",
    "    if(num == 1):\n",
    "        return 1\n",
    "    else:\n",
    "        return (num*factorial(num-1))\n",
    "    \n",
    "num = int(input('Enter a number for factorial:'))\n",
    "print('Factorial of',num,'is',factorial(num),'.') "
   ]
  },
  {
   "cell_type": "code",
   "execution_count": 6,
   "metadata": {},
   "outputs": [
    {
     "name": "stdout",
     "output_type": "stream",
     "text": [
      "Enter a number1: 8\n",
      "Enter a number2: 9\n",
      "Before swapping...\n",
      "Number1: 8\n",
      "Number2: 9\n",
      "After swapping...\n",
      "Number1: 9\n",
      "Number2: 8\n"
     ]
    }
   ],
   "source": [
    "#7.Write a program to swap 2 numbers using third variable.\n",
    "num1 = int(input('Enter a number1: '))\n",
    "num2 = int(input('Enter a number2: '))\n",
    "print('Before swapping...')\n",
    "print('Number1:',num1)\n",
    "print('Number2:',num2)\n",
    "\n",
    "temp = num1\n",
    "num1 = num2\n",
    "num2 = temp\n",
    "print('After swapping...')\n",
    "print('Number1:',num1)\n",
    "print('Number2:',num2)"
   ]
  },
  {
   "cell_type": "code",
   "execution_count": 7,
   "metadata": {},
   "outputs": [
    {
     "name": "stdout",
     "output_type": "stream",
     "text": [
      "Enter a number1:5\n",
      "Enter a number2:6\n",
      "5  is smallest.\n"
     ]
    }
   ],
   "source": [
    "#8.Take 2 numbers and find smallest number.\n",
    "num1=int(input('Enter a number1:'))\n",
    "num2=int(input('Enter a number2:'))\n",
    "\n",
    "if(num1 == num2):\n",
    "    print('Both number are Equal.')\n",
    "elif(num1 < num2):\n",
    "    print(num1,' is smallest.')\n",
    "else:\n",
    "    print(num2,' is smallest.')"
   ]
  },
  {
   "cell_type": "code",
   "execution_count": 8,
   "metadata": {},
   "outputs": [
    {
     "name": "stdout",
     "output_type": "stream",
     "text": [
      "Enter a number: 25\n",
      "25 is less than 100.\n",
      "25  is odd.\n"
     ]
    }
   ],
   "source": [
    "#9.Take a number check if a number is less than 100 or not. If it is less than 100 then check if it is odd or even.\n",
    "num = int(input('Enter a number: '))\n",
    "if(num < 100):\n",
    "    print(num,'is less than 100.')\n",
    "    if(num % 2 == 0):\n",
    "        print(num,' is even.')\n",
    "    else:\n",
    "        print(num,' is odd.')\n",
    "else:\n",
    "    print(num,'is greater than 100.')"
   ]
  },
  {
   "cell_type": "code",
   "execution_count": 9,
   "metadata": {},
   "outputs": [
    {
     "name": "stdout",
     "output_type": "stream",
     "text": [
      "Enter a number: 6\n",
      "6 is less than 10.\n",
      "Square of 6 is 36 .\n"
     ]
    }
   ],
   "source": [
    "#10.Take a number to print the square of a number if it is less than 10.\n",
    "num = int(input('Enter a number: '))\n",
    "if(num < 10):\n",
    "    print(num,'is less than 10.')\n",
    "    print('Square of',num,'is',num**2,'.')"
   ]
  },
  {
   "cell_type": "code",
   "execution_count": 10,
   "metadata": {},
   "outputs": [
    {
     "name": "stdout",
     "output_type": "stream",
     "text": [
      "Enter a number:0\n",
      "Number is Zero.\n"
     ]
    }
   ],
   "source": [
    "#11.Take a number and check whether it is zero, positive or negative using nested IF…ELSE statement .\n",
    "num = int(input('Enter a number:'))\n",
    "if(num >= 0):\n",
    "    if(num == 0):\n",
    "        print('Number is Zero.')\n",
    "    else:\n",
    "        print('Number is positive.')\n",
    "else:\n",
    "    print('Number is negative.')"
   ]
  },
  {
   "cell_type": "code",
   "execution_count": 11,
   "metadata": {},
   "outputs": [
    {
     "name": "stdout",
     "output_type": "stream",
     "text": [
      "Enter a number1:12\n",
      "Enter a number2:15\n",
      "Enter a number3:18\n",
      "18 is greatest number.\n"
     ]
    }
   ],
   "source": [
    "#12.Take 3 numbers and find greatest number using nested IF….ELSE statement.\n",
    "num1=int(input('Enter a number1:'))\n",
    "num2=int(input('Enter a number2:'))\n",
    "num3=int(input('Enter a number3:'))\n",
    "\n",
    "if(num1>num2):\n",
    "    if(num1>num3):\n",
    "        print(num1,'is greatest number.')\n",
    "    else:\n",
    "        print(num3,'is greatest number.')\n",
    "else:\n",
    "    if(num2>num3):\n",
    "        print(num2,'is greatest number.')\n",
    "    else:\n",
    "        print(num3,'is greatest number.')"
   ]
  },
  {
   "cell_type": "code",
   "execution_count": 12,
   "metadata": {},
   "outputs": [
    {
     "name": "stdout",
     "output_type": "stream",
     "text": [
      "Enter a number1:10\n",
      "Enter a number2:100\n",
      "Enter a number3:15\n",
      "10 is smallest number.\n"
     ]
    }
   ],
   "source": [
    "#13.Take 3 numbers and find smallest number using logical operator.\n",
    "num1=int(input('Enter a number1:'))\n",
    "num2=int(input('Enter a number2:'))\n",
    "num3=int(input('Enter a number3:'))\n",
    "\n",
    "if(num1 <= num2 and num1 <= num3):\n",
    "    print(num1,'is smallest number.')\n",
    "elif(num2 <= num1 and num2 <= num3):\n",
    "    print(num2,'is smallest number.')\n",
    "elif(num3 <= num1 and num3 <= num2):\n",
    "    print(num3,'is smallest number.')"
   ]
  },
  {
   "cell_type": "code",
   "execution_count": 13,
   "metadata": {},
   "outputs": [
    {
     "name": "stdout",
     "output_type": "stream",
     "text": [
      "Enter a number1: 20\n",
      "Enter a number2: 30\n",
      "After swapping...\n",
      "Number1: 30\n",
      "Number2: 20\n"
     ]
    }
   ],
   "source": [
    "#14.Write a program to swap 2 numbers without taking third variable.\n",
    "num1 = int(input('Enter a number1: '))\n",
    "num2 = int(input('Enter a number2: '))\n",
    "\n",
    "num1, num2 = num2, num1\n",
    "\n",
    "print('After swapping...')\n",
    "print('Number1:',num1)\n",
    "print('Number2:',num2)"
   ]
  },
  {
   "cell_type": "code",
   "execution_count": 14,
   "metadata": {},
   "outputs": [
    {
     "name": "stdout",
     "output_type": "stream",
     "text": [
      "Enter starting number : 30\n",
      "Enter ending number : 0\n",
      "30\n",
      "27\n",
      "24\n",
      "21\n",
      "18\n",
      "15\n",
      "12\n",
      "9\n",
      "6\n",
      "3\n",
      "0\n"
     ]
    }
   ],
   "source": [
    "#15.Take starting number and ending number from the user and print following series.\n",
    "# Output :-\n",
    "# Enter starting number : 30\n",
    "# Enter ending number : 0\n",
    "#  30\n",
    "#  27\n",
    "#  24\n",
    "#  21\n",
    "#  18\n",
    "#  15\n",
    "#  12\n",
    "#  9\n",
    "#  6\n",
    "#  3\n",
    "#  0\n",
    "start = int(input('Enter starting number : '))\n",
    "end = int(input('Enter ending number : '))\n",
    "\n",
    "for i in range(start,end-1,-3):\n",
    "    print(i)"
   ]
  },
  {
   "cell_type": "code",
   "execution_count": null,
   "metadata": {},
   "outputs": [],
   "source": []
  }
 ],
 "metadata": {
  "kernelspec": {
   "display_name": "Python 3",
   "language": "python",
   "name": "python3"
  },
  "language_info": {
   "codemirror_mode": {
    "name": "ipython",
    "version": 3
   },
   "file_extension": ".py",
   "mimetype": "text/x-python",
   "name": "python",
   "nbconvert_exporter": "python",
   "pygments_lexer": "ipython3",
   "version": "3.8.3"
  }
 },
 "nbformat": 4,
 "nbformat_minor": 4
}
